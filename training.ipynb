{
 "cells": [
  {
   "cell_type": "code",
   "execution_count": null,
   "metadata": {
    "id": "L8OI_ygvw33p",
    "tags": []
   },
   "outputs": [],
   "source": [
    "! conda install glib=2.51.0 -y\n",
    "! pip install kaggle\n",
    "! pip install matplotlib\n",
    "! pip install tensorflow_datasets"
   ]
  },
  {
   "cell_type": "code",
   "execution_count": null,
   "metadata": {
    "colab": {
     "base_uri": "https://localhost:8080/"
    },
    "id": "B4hVGC_cic9k",
    "outputId": "6f90d829-cff9-4f19-99f3-8f8ba9da076f",
    "tags": []
   },
   "outputs": [],
   "source": [
    "import glob\n",
    "import math\n",
    "import os\n",
    "import random\n",
    "import subprocess\n",
    "\n",
    "from pathlib import Path\n",
    "\n",
    "import cv2\n",
    "import matplotlib.pyplot as plt\n",
    "import numpy\n",
    "import tensorflow as tf\n",
    "import tensorflow_datasets as tfds\n",
    "from tensorflow.keras.layers import Conv2D, Dense, Dropout, Flatten, MaxPool2D, Softmax\n",
    "from tensorflow.keras.models import Sequential\n",
    "from tensorflow.keras.utils import to_categorical"
   ]
  },
  {
   "cell_type": "code",
   "execution_count": null,
   "metadata": {
    "id": "fGR2y6ixnbh4"
   },
   "outputs": [],
   "source": [
    "# Constants\n",
    "IMAGE_SIZE = (100, 100)\n",
    "VAL_SIZE = 0.2\n",
    "BATCH_SIZE = 16\n",
    "AUTOTUNE = tf.data.AUTOTUNE"
   ]
  },
  {
   "cell_type": "code",
   "execution_count": null,
   "metadata": {
    "id": "dDmYnP9Znbrn"
   },
   "outputs": [],
   "source": [
    "# Place kaggle token\n",
    "home = Path.home()\n",
    "if not home.joinpath(\".kaggle\").exists():\n",
    "    os.mkdir(str(home.joinpath(\".kaggle\")))  # Make /root/.kaggle\n",
    "if home.joinpath(\"kaggle.json\").exists():\n",
    "  os.rename(str(home.joinpath(\"../content/kaggle.json\")), str(home.joinpath(\".kaggle/kaggle.json\")))  # Move /content/kaggle.json to /root/.kaggle/"
   ]
  },
  {
   "cell_type": "code",
   "execution_count": null,
   "metadata": {
    "colab": {
     "base_uri": "https://localhost:8080/",
     "height": 68,
     "referenced_widgets": [
      "2d8a0c320df04325932cf0cded842c4c",
      "19015b487649433785ab34614d37c3ff",
      "ec28a9bc6ebf412ba914fa6164759253",
      "73592de8ae8644689dc5573b0ae17e97",
      "d4d3cfa7c7984ef4bd21ad2c389c10ad",
      "a7e1a02ccd034db4a94b2b09f09379b9",
      "8ed911450f4741669d3a8c9286faa35c",
      "4cc803b64e074209a2943aa52a698e36",
      "85ece992192f42adb406c05a5887a4ff",
      "aa4968954a6849c9b04108d271904cf9",
      "1dfcc01f16814d94bf2bb2954b31bf10"
     ]
    },
    "id": "Fa0vHRWonb1m",
    "outputId": "287a1bfd-887e-45c8-ca3a-9e03befbbdbf"
   },
   "outputs": [],
   "source": [
    "# Install dataset\n",
    "if not 'data_dir' in globals():\n",
    "  download_manager = tfds.download.DownloadManager(\n",
    "      download_dir=str(home.joinpath(\".tensorflow/datasets\")),\n",
    "      force_extraction=True  # Unzip the dataset\n",
    "  )\n",
    "  data_dir = download_manager.download_kaggle_data(\"grassknoted/asl-alphabet\").joinpath(\"asl_alphabet_train/asl_alphabet_train\")"
   ]
  },
  {
   "cell_type": "code",
   "execution_count": null,
   "metadata": {
    "cellView": "code",
    "id": "3K1GRhBnnb_R",
    "tags": []
   },
   "outputs": [],
   "source": [
    "# Preprocess images\n",
    "def process_image(image):\n",
    "  image = cv2.Canny(image, 80, 90)\n",
    "  image = cv2.dilate(image, None)\n",
    "  image = cv2.erode(image, None)\n",
    "  image = cv2.resize(image, IMAGE_SIZE)\n",
    "  return image\n",
    "\n",
    "classes_folders = sorted(glob.glob(str(data_dir)+\"/*\"))\n",
    "images, labels = [], []\n",
    "class_to_index_map = {}\n",
    "index_to_class_map = {}\n",
    "DROP_RATE = 0.3\n",
    "for folder in classes_folders:  # /A, /del, etc\n",
    "    class_name = tf.strings.split(folder, \"/\")[-1].ref()\n",
    "    class_index = len(index_to_class_map)\n",
    "    index_to_class_map[class_index] = class_name\n",
    "    class_to_index_map[class_name] = class_index\n",
    "    for filename in glob.glob(folder+\"/*.jpg\"):\n",
    "        image = cv2.imread(filename, 0)\n",
    "        image = process_image(image)\n",
    "        image = numpy.array(image)\n",
    "        image = tf.convert_to_tensor(image, dtype=tf.float32)\n",
    "        label = tf.convert_to_tensor(class_index, dtype=tf.int32)\n",
    "        images.append(image)\n",
    "        labels.append(label)"
   ]
  },
  {
   "cell_type": "code",
   "execution_count": null,
   "metadata": {
    "colab": {
     "base_uri": "https://localhost:8080/"
    },
    "id": "jHkeBDtNncJy",
    "outputId": "5670184e-55b2-41db-a28c-1af02bdfbaba"
   },
   "outputs": [],
   "source": [
    "# Prepare dataset\n",
    "dataset = tf.data.Dataset.from_tensor_slices((images, labels))\n",
    "dataset = dataset.shuffle(len(labels))\n",
    "\n",
    "train_ds = dataset.skip(math.floor(VAL_SIZE * len(dataset)))\n",
    "val_ds = dataset.take(math.floor(VAL_SIZE * len(dataset)))\n",
    "\n",
    "train_ds = train_ds.batch(BATCH_SIZE).cache().prefetch(buffer_size=AUTOTUNE)\n",
    "val_ds = val_ds.batch(BATCH_SIZE).cache().prefetch(buffer_size=AUTOTUNE)"
   ]
  },
  {
   "cell_type": "code",
   "execution_count": null,
   "metadata": {
    "colab": {
     "base_uri": "https://localhost:8080/",
     "height": 632
    },
    "id": "EeNhtjFvncp9",
    "outputId": "c1205436-59bd-49ab-fa13-0c6fca956e2f"
   },
   "outputs": [],
   "source": [
    "# View some images\n",
    "plt.figure(figsize=(10, 10))\n",
    "for _images, _labels in train_ds.take(3):\n",
    "  for i in range(9):\n",
    "    ax = plt.subplot(3, 3, i + 1)\n",
    "    plt.imshow(tf.squeeze(_images[i]).numpy().astype(\"uint8\"), cmap=\"gray\")\n",
    "    plt.axis(\"off\")"
   ]
  },
  {
   "cell_type": "code",
   "execution_count": null,
   "metadata": {
    "colab": {
     "base_uri": "https://localhost:8080/"
    },
    "id": "FDQVEmTXnc1h",
    "outputId": "e7fb8559-63da-45f7-bf50-11dd0183098b"
   },
   "outputs": [],
   "source": [
    "# Create the model\n",
    "model = Sequential()\n",
    "model.add(Conv2D(64, (3, 3), input_shape=IMAGE_SIZE + (1,), activation='relu'))  # 64 filters with size 3x3 over a 64x64 image of 1 channel\n",
    "model.add(Conv2D(64, (3, 3), activation='relu'))\n",
    "model.add(MaxPool2D())  # Defaults to (2,2)\n",
    "model.add(Conv2D(128, (3,3), activation='relu'))\n",
    "model.add(MaxPool2D())  # Defaults to (2,2)\n",
    "model.add(Conv2D(256, (3,3), activation='relu'))\n",
    "model.add(Dropout(0.2))  # Drop half the time\n",
    "model.add(Flatten())\n",
    "model.add(Dense(64, activation='relu'))\n",
    "model.add(Dense(29, activation='relu'))  # 26 alphabets + del, space, nothing\n",
    "model.add(Softmax())  # Convert to probabilities\n",
    "\n",
    "print(model.summary())"
   ]
  },
  {
   "cell_type": "code",
   "execution_count": null,
   "metadata": {
    "colab": {
     "base_uri": "https://localhost:8080/"
    },
    "id": "XDx7YwJhnc_-",
    "outputId": "d7936e75-5bdd-493f-a302-4c24ee247da4",
    "tags": []
   },
   "outputs": [],
   "source": [
    "# Compile and train the model\n",
    "early_stopping = tf.keras.callbacks.EarlyStopping(monitor='loss', patience=3, verbose=1)\n",
    "optimizer = tf.keras.optimizers.SGD(learning_rate=0.01)\n",
    "model.compile(\n",
    "    optimizer=optimizer,\n",
    "    loss=tf.keras.losses.SparseCategoricalCrossentropy(from_logits=True),\n",
    "    metrics=['accuracy']\n",
    ")\n",
    "history = model.fit(train_ds, validation_data=val_ds, epochs=10, callbacks=[early_stopping])"
   ]
  },
  {
   "cell_type": "code",
   "execution_count": null,
   "metadata": {
    "id": "zuf6JXCWndKE"
   },
   "outputs": [],
   "source": [
    "# Evaluate model\n",
    "plt.plot(history.history.get(\"accuracy\"), label=\"accuracy\")\n",
    "plt.plot(history.history.get(\"val_accuracy\"), label=\"val_accuracy\")\n",
    "plt.xlabel(\"Epoch\")\n",
    "plt.ylabel(\"Accuracy\")\n",
    "plt.ylim([0, 1])\n",
    "plt.legend(loc=\"lower right\")\n",
    "plt.show()"
   ]
  },
  {
   "cell_type": "code",
   "execution_count": null,
   "metadata": {},
   "outputs": [],
   "source": [
    "model.save(\"Hand_Gesture_Model.h5)"
   ]
  },
  {
   "cell_type": "code",
   "execution_count": null,
   "metadata": {},
   "outputs": [],
   "source": [
    "print(class_to_index_map)"
   ]
  }
 ],
 "metadata": {
  "accelerator": "TPU",
  "colab": {
   "collapsed_sections": [],
   "name": "Hand Gesture Recognition.ipynb",
   "provenance": []
  },
  "kernelspec": {
   "display_name": "default:Python",
   "language": "python",
   "name": "conda-env-default-py"
  },
  "language_info": {
   "codemirror_mode": {
    "name": "ipython",
    "version": 3
   },
   "file_extension": ".py",
   "mimetype": "text/x-python",
   "name": "python",
   "nbconvert_exporter": "python",
   "pygments_lexer": "ipython3",
   "version": "3.9.7"
  },
  "widgets": {
   "application/vnd.jupyter.widget-state+json": {
    "19015b487649433785ab34614d37c3ff": {
     "model_module": "@jupyter-widgets/base",
     "model_module_version": "1.2.0",
     "model_name": "LayoutModel",
     "state": {
      "_model_module": "@jupyter-widgets/base",
      "_model_module_version": "1.2.0",
      "_model_name": "LayoutModel",
      "_view_count": null,
      "_view_module": "@jupyter-widgets/base",
      "_view_module_version": "1.2.0",
      "_view_name": "LayoutView",
      "align_content": null,
      "align_items": null,
      "align_self": null,
      "border": null,
      "bottom": null,
      "display": null,
      "flex": null,
      "flex_flow": null,
      "grid_area": null,
      "grid_auto_columns": null,
      "grid_auto_flow": null,
      "grid_auto_rows": null,
      "grid_column": null,
      "grid_gap": null,
      "grid_row": null,
      "grid_template_areas": null,
      "grid_template_columns": null,
      "grid_template_rows": null,
      "height": null,
      "justify_content": null,
      "justify_items": null,
      "left": null,
      "margin": null,
      "max_height": null,
      "max_width": null,
      "min_height": null,
      "min_width": null,
      "object_fit": null,
      "object_position": null,
      "order": null,
      "overflow": null,
      "overflow_x": null,
      "overflow_y": null,
      "padding": null,
      "right": null,
      "top": null,
      "visibility": null,
      "width": null
     }
    },
    "1dfcc01f16814d94bf2bb2954b31bf10": {
     "model_module": "@jupyter-widgets/base",
     "model_module_version": "1.2.0",
     "model_name": "LayoutModel",
     "state": {
      "_model_module": "@jupyter-widgets/base",
      "_model_module_version": "1.2.0",
      "_model_name": "LayoutModel",
      "_view_count": null,
      "_view_module": "@jupyter-widgets/base",
      "_view_module_version": "1.2.0",
      "_view_name": "LayoutView",
      "align_content": null,
      "align_items": null,
      "align_self": null,
      "border": null,
      "bottom": null,
      "display": null,
      "flex": null,
      "flex_flow": null,
      "grid_area": null,
      "grid_auto_columns": null,
      "grid_auto_flow": null,
      "grid_auto_rows": null,
      "grid_column": null,
      "grid_gap": null,
      "grid_row": null,
      "grid_template_areas": null,
      "grid_template_columns": null,
      "grid_template_rows": null,
      "height": null,
      "justify_content": null,
      "justify_items": null,
      "left": null,
      "margin": null,
      "max_height": null,
      "max_width": null,
      "min_height": null,
      "min_width": null,
      "object_fit": null,
      "object_position": null,
      "order": null,
      "overflow": null,
      "overflow_x": null,
      "overflow_y": null,
      "padding": null,
      "right": null,
      "top": null,
      "visibility": null,
      "width": null
     }
    },
    "2d8a0c320df04325932cf0cded842c4c": {
     "model_module": "@jupyter-widgets/controls",
     "model_module_version": "1.5.0",
     "model_name": "HBoxModel",
     "state": {
      "_dom_classes": [],
      "_model_module": "@jupyter-widgets/controls",
      "_model_module_version": "1.5.0",
      "_model_name": "HBoxModel",
      "_view_count": null,
      "_view_module": "@jupyter-widgets/controls",
      "_view_module_version": "1.5.0",
      "_view_name": "HBoxView",
      "box_style": "",
      "children": [
       "IPY_MODEL_ec28a9bc6ebf412ba914fa6164759253",
       "IPY_MODEL_73592de8ae8644689dc5573b0ae17e97",
       "IPY_MODEL_d4d3cfa7c7984ef4bd21ad2c389c10ad"
      ],
      "layout": "IPY_MODEL_19015b487649433785ab34614d37c3ff"
     }
    },
    "4cc803b64e074209a2943aa52a698e36": {
     "model_module": "@jupyter-widgets/controls",
     "model_module_version": "1.5.0",
     "model_name": "ProgressStyleModel",
     "state": {
      "_model_module": "@jupyter-widgets/controls",
      "_model_module_version": "1.5.0",
      "_model_name": "ProgressStyleModel",
      "_view_count": null,
      "_view_module": "@jupyter-widgets/base",
      "_view_module_version": "1.2.0",
      "_view_name": "StyleView",
      "bar_color": null,
      "description_width": ""
     }
    },
    "73592de8ae8644689dc5573b0ae17e97": {
     "model_module": "@jupyter-widgets/controls",
     "model_module_version": "1.5.0",
     "model_name": "FloatProgressModel",
     "state": {
      "_dom_classes": [],
      "_model_module": "@jupyter-widgets/controls",
      "_model_module_version": "1.5.0",
      "_model_name": "FloatProgressModel",
      "_view_count": null,
      "_view_module": "@jupyter-widgets/controls",
      "_view_module_version": "1.5.0",
      "_view_name": "ProgressView",
      "bar_style": "success",
      "description": "",
      "description_tooltip": null,
      "layout": "IPY_MODEL_85ece992192f42adb406c05a5887a4ff",
      "max": 1,
      "min": 0,
      "orientation": "horizontal",
      "style": "IPY_MODEL_4cc803b64e074209a2943aa52a698e36",
      "value": 1
     }
    },
    "85ece992192f42adb406c05a5887a4ff": {
     "model_module": "@jupyter-widgets/base",
     "model_module_version": "1.2.0",
     "model_name": "LayoutModel",
     "state": {
      "_model_module": "@jupyter-widgets/base",
      "_model_module_version": "1.2.0",
      "_model_name": "LayoutModel",
      "_view_count": null,
      "_view_module": "@jupyter-widgets/base",
      "_view_module_version": "1.2.0",
      "_view_name": "LayoutView",
      "align_content": null,
      "align_items": null,
      "align_self": null,
      "border": null,
      "bottom": null,
      "display": null,
      "flex": null,
      "flex_flow": null,
      "grid_area": null,
      "grid_auto_columns": null,
      "grid_auto_flow": null,
      "grid_auto_rows": null,
      "grid_column": null,
      "grid_gap": null,
      "grid_row": null,
      "grid_template_areas": null,
      "grid_template_columns": null,
      "grid_template_rows": null,
      "height": null,
      "justify_content": null,
      "justify_items": null,
      "left": null,
      "margin": null,
      "max_height": null,
      "max_width": null,
      "min_height": null,
      "min_width": null,
      "object_fit": null,
      "object_position": null,
      "order": null,
      "overflow": null,
      "overflow_x": null,
      "overflow_y": null,
      "padding": null,
      "right": null,
      "top": null,
      "visibility": null,
      "width": "20px"
     }
    },
    "8ed911450f4741669d3a8c9286faa35c": {
     "model_module": "@jupyter-widgets/base",
     "model_module_version": "1.2.0",
     "model_name": "LayoutModel",
     "state": {
      "_model_module": "@jupyter-widgets/base",
      "_model_module_version": "1.2.0",
      "_model_name": "LayoutModel",
      "_view_count": null,
      "_view_module": "@jupyter-widgets/base",
      "_view_module_version": "1.2.0",
      "_view_name": "LayoutView",
      "align_content": null,
      "align_items": null,
      "align_self": null,
      "border": null,
      "bottom": null,
      "display": null,
      "flex": null,
      "flex_flow": null,
      "grid_area": null,
      "grid_auto_columns": null,
      "grid_auto_flow": null,
      "grid_auto_rows": null,
      "grid_column": null,
      "grid_gap": null,
      "grid_row": null,
      "grid_template_areas": null,
      "grid_template_columns": null,
      "grid_template_rows": null,
      "height": null,
      "justify_content": null,
      "justify_items": null,
      "left": null,
      "margin": null,
      "max_height": null,
      "max_width": null,
      "min_height": null,
      "min_width": null,
      "object_fit": null,
      "object_position": null,
      "order": null,
      "overflow": null,
      "overflow_x": null,
      "overflow_y": null,
      "padding": null,
      "right": null,
      "top": null,
      "visibility": null,
      "width": null
     }
    },
    "a7e1a02ccd034db4a94b2b09f09379b9": {
     "model_module": "@jupyter-widgets/controls",
     "model_module_version": "1.5.0",
     "model_name": "DescriptionStyleModel",
     "state": {
      "_model_module": "@jupyter-widgets/controls",
      "_model_module_version": "1.5.0",
      "_model_name": "DescriptionStyleModel",
      "_view_count": null,
      "_view_module": "@jupyter-widgets/base",
      "_view_module_version": "1.2.0",
      "_view_name": "StyleView",
      "description_width": ""
     }
    },
    "aa4968954a6849c9b04108d271904cf9": {
     "model_module": "@jupyter-widgets/controls",
     "model_module_version": "1.5.0",
     "model_name": "DescriptionStyleModel",
     "state": {
      "_model_module": "@jupyter-widgets/controls",
      "_model_module_version": "1.5.0",
      "_model_name": "DescriptionStyleModel",
      "_view_count": null,
      "_view_module": "@jupyter-widgets/base",
      "_view_module_version": "1.2.0",
      "_view_name": "StyleView",
      "description_width": ""
     }
    },
    "d4d3cfa7c7984ef4bd21ad2c389c10ad": {
     "model_module": "@jupyter-widgets/controls",
     "model_module_version": "1.5.0",
     "model_name": "HTMLModel",
     "state": {
      "_dom_classes": [],
      "_model_module": "@jupyter-widgets/controls",
      "_model_module_version": "1.5.0",
      "_model_name": "HTMLModel",
      "_view_count": null,
      "_view_module": "@jupyter-widgets/controls",
      "_view_module_version": "1.5.0",
      "_view_name": "HTMLView",
      "description": "",
      "description_tooltip": null,
      "layout": "IPY_MODEL_1dfcc01f16814d94bf2bb2954b31bf10",
      "placeholder": "​",
      "style": "IPY_MODEL_aa4968954a6849c9b04108d271904cf9",
      "value": " 1/1 [00:58&lt;00:00, 58.69s/ file]"
     }
    },
    "ec28a9bc6ebf412ba914fa6164759253": {
     "model_module": "@jupyter-widgets/controls",
     "model_module_version": "1.5.0",
     "model_name": "HTMLModel",
     "state": {
      "_dom_classes": [],
      "_model_module": "@jupyter-widgets/controls",
      "_model_module_version": "1.5.0",
      "_model_name": "HTMLModel",
      "_view_count": null,
      "_view_module": "@jupyter-widgets/controls",
      "_view_module_version": "1.5.0",
      "_view_name": "HTMLView",
      "description": "",
      "description_tooltip": null,
      "layout": "IPY_MODEL_8ed911450f4741669d3a8c9286faa35c",
      "placeholder": "​",
      "style": "IPY_MODEL_a7e1a02ccd034db4a94b2b09f09379b9",
      "value": "Extraction completed...: 100%"
     }
    }
   }
  }
 },
 "nbformat": 4,
 "nbformat_minor": 4
}
